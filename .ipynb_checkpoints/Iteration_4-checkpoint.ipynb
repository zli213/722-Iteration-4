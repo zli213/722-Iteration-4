{
 "cells": [
  {
   "cell_type": "code",
   "execution_count": 45,
   "id": "60e431d5",
   "metadata": {},
   "outputs": [],
   "source": [
    "# Must be included at the beginning of each new notebook. Remember to change the app name.\n",
    "import findspark\n",
    "findspark.init('/home/ubuntu/spark-3.2.1-bin-hadoop2.7')\n",
    "import pyspark\n",
    "from pyspark.sql import SparkSession\n",
    "spark = SparkSession.builder.appName('Iteration_4').getOrCreate()"
   ]
  },
  {
   "cell_type": "code",
   "execution_count": 46,
   "id": "6bf2cc5d",
   "metadata": {},
   "outputs": [],
   "source": [
    "# Let's read in the data. Note that it's in the format of JSON.\n",
    "df01 = spark.read.option(\"header\", \"true\").csv('Datasets/job_postings.csv')\n",
    "df02 = spark.read.option(\"header\", \"true\").csv('Datasets/job_skills.csv')"
   ]
  },
  {
   "cell_type": "markdown",
   "id": "40e7d970",
   "metadata": {},
   "source": [
    "## Data Exploration"
   ]
  },
  {
   "cell_type": "code",
   "execution_count": 47,
   "id": "dbe64410",
   "metadata": {},
   "outputs": [
    {
     "name": "stdout",
     "output_type": "stream",
     "text": [
      "+--------------------+--------------------+------------+-----------+-------+---------------+--------------------+--------------------+--------------------+----------+------------+--------------+--------------------+----------+--------+\n",
      "|            job_link| last_processed_time| last_status|got_summary|got_ner|is_being_worked|           job_title|             company|        job_location|first_seen| search_city|search_country|     search_position| job_level|job_type|\n",
      "+--------------------+--------------------+------------+-----------+-------+---------------+--------------------+--------------------+--------------------+----------+------------+--------------+--------------------+----------+--------+\n",
      "|https://www.linke...|2024-01-21 08:08:...|Finished NER|          t|      t|              f|Senior Machine Le...|   Jobs for Humanity|       New Haven, CT|2024-01-14|  East Haven| United States|Agricultural-Rese...|Mid senior|  Onsite|\n",
      "|https://www.linke...|2024-01-20 04:02:...|Finished NER|          t|      t|              f|Principal Softwar...|              Aurora|   San Francisco, CA|2024-01-14|  El Cerrito| United States|      Set-Key Driver|Mid senior|  Onsite|\n",
      "|https://www.linke...|2024-01-21 08:08:...|Finished NER|          t|      t|              f|Senior ETL Data W...|  Adame Services LLC|        New York, NY|2024-01-14|  Middletown| United States|Technical Support...| Associate|  Onsite|\n",
      "|https://www.linke...|2024-01-20 15:30:...|Finished NER|          t|      t|              f|Senior Data Wareh...|    Morph Enterprise|      Harrisburg, PA|2024-01-12|     Lebanon| United States|           Architect|Mid senior|  Onsite|\n",
      "|https://www.linke...|2024-01-21 08:08:...|Finished NER|          t|      t|              f|  Lead Data Engineer|                Dice|           Plano, TX|2024-01-14|    McKinney| United States|Maintenance Data ...|Mid senior|  Onsite|\n",
      "|https://www.linke...|2024-01-21 07:14:...|Finished NER|          t|      t|              f|Senior Data Engineer|University of Chi...|         Chicago, IL|2024-01-14|East Chicago| United States|Data Base Adminis...|Mid senior|  Onsite|\n",
      "|https://www.linke...|2024-01-21 07:14:...|Finished NER|          t|      t|              f|Manager, Cyber Ri...|   Jobs for Humanity|          Boston, MA|2024-01-16|     Beverly| United States|Manager Reports A...|Mid senior|  Onsite|\n",
      "|https://www.linke...|2024-01-21 07:39:...|Finished NER|          t|      t|              f|Principal Associa...|   Jobs for Humanity|        Scranton, PA|2024-01-14|   Nanticoke| United States|           Architect|Mid senior|  Onsite|\n",
      "|https://www.linke...|2024-01-21 07:14:...|Finished NER|          t|      t|              f|Senior Financial ...|The Walt Disney C...|Lake Buena Vista, FL|2024-01-15|    Avondale| United States|      Budget Officer|Mid senior|  Onsite|\n",
      "|https://www.linke...|2024-01-21 07:40:...|Finished NER|          t|      t|              f|Machine Learning ...|L&T Technology Se...|       Sunnyvale, CA|2024-01-14|Redwood City| United States|Test Fixture Desi...|Mid senior|  Onsite|\n",
      "|https://www.linke...|2024-01-21 07:15:...|Finished NER|          t|      t|              f|Sr. Workforce Man...|Wisemen Multimedi...|         Atlanta, GA|2024-01-13| Stockbridge| United States|  Management Analyst|Mid senior|  Onsite|\n",
      "|https://www.linke...|2024-01-20 07:01:...|Finished NER|          t|      t|              f|Master Data Manag...|            OpenText|        Pasadena, CA|2024-01-15| West Covina| United States|             Actuary|Mid senior|  Onsite|\n",
      "|https://www.linke...|2024-01-21 05:31:...|Finished NER|          t|      t|              f|4 Corporate Assoc...|                 LHH|         Atlanta, GA|2024-01-16|   Crookston| United States|        Floor Worker| Associate|  Onsite|\n",
      "|https://www.linke...|2024-01-21 07:45:...|Finished NER|          t|      t|              f|Sr. Database Admi...|                Dice|     Yorba Linda, CA|2024-01-14|      Irvine| United States|Data Base Adminis...|Mid senior|  Onsite|\n",
      "|https://www.linke...|2024-01-21 07:24:...|Finished NER|          t|      t|              f|Senior MLOps Engi...|Recruiting from S...|         Atlanta, GA|2024-01-14|      Duluth| United States|      Value Engineer|Mid senior|  Onsite|\n",
      "|https://uk.linked...|2024-01-21 07:15:...|Finished NER|          t|      t|              f|Data Engineer Man...|      Energy Jobline|Wolverhampton, En...|2024-01-14|     Telford|United Kingdom|Agricultural-Rese...|Mid senior|  Onsite|\n",
      "|https://ca.linked...|2024-01-21 00:27:...|Finished NER|          t|      t|              f|Data Analyst Part...|          Toyandsons|Waterloo, Ontario...|2024-01-14|   Stratford|        Canada|    Data Entry Clerk|Mid senior|  Onsite|\n",
      "|https://www.linke...|2024-01-21 07:16:...|Finished NER|          t|      t|              f|Summer 2024 Datac...|                 AMD|          Austin, TX|2024-01-15|      Austin| United States|Die-Maker Apprentice|Mid senior|  Onsite|\n",
      "|https://www.linke...|2024-01-21 07:34:...|Finished NER|          t|      t|              f|Enterprise Data M...|              DMVTEK|State College-DuB...|2024-01-14|        Zion| United States|  Manager Department|Mid senior|  Onsite|\n",
      "|https://www.linke...|2024-01-21 07:34:...|Finished NER|          t|      t|              f|IT Database Devel...|             Experis|     Minneapolis, MN|2024-01-14| Lake Forest| United States|Data Base Adminis...|Mid senior|  Onsite|\n",
      "+--------------------+--------------------+------------+-----------+-------+---------------+--------------------+--------------------+--------------------+----------+------------+--------------+--------------------+----------+--------+\n",
      "only showing top 20 rows\n",
      "\n"
     ]
    },
    {
     "data": {
      "text/plain": [
       "['job_link',\n",
       " 'last_processed_time',\n",
       " 'last_status',\n",
       " 'got_summary',\n",
       " 'got_ner',\n",
       " 'is_being_worked',\n",
       " 'job_title',\n",
       " 'company',\n",
       " 'job_location',\n",
       " 'first_seen',\n",
       " 'search_city',\n",
       " 'search_country',\n",
       " 'search_position',\n",
       " 'job_level',\n",
       " 'job_type']"
      ]
     },
     "execution_count": 47,
     "metadata": {},
     "output_type": "execute_result"
    }
   ],
   "source": [
    "# Visualise DataFrames df1 \n",
    "df01.show()\n",
    "df01.columns"
   ]
  },
  {
   "cell_type": "code",
   "execution_count": 48,
   "id": "5227bdc8",
   "metadata": {},
   "outputs": [
    {
     "name": "stdout",
     "output_type": "stream",
     "text": [
      "+--------------------+--------------------+\n",
      "|            job_link|          job_skills|\n",
      "+--------------------+--------------------+\n",
      "|https://www.linke...|Machine Learning,...|\n",
      "|https://www.linke...|C++, Python, PyTo...|\n",
      "|https://www.linke...|ETL, Data Integra...|\n",
      "|https://www.linke...|Data Lakes, Data ...|\n",
      "|https://www.linke...|Java, Scala, Pyth...|\n",
      "|https://www.linke...|Data Warehouse (D...|\n",
      "|https://www.linke...|Machine Learning,...|\n",
      "|https://www.linke...|Data Loss Prevent...|\n",
      "|https://www.linke...|Problem solving, ...|\n",
      "|https://www.linke...|Machine Learning,...|\n",
      "|https://www.linke...|SQL, Database Adm...|\n",
      "|https://www.linke...|Master Data Analy...|\n",
      "|https://www.linke...|Corporate Law, Pr...|\n",
      "|https://www.linke...|SQL, AWS, DBA cas...|\n",
      "|https://www.linke...|Machine Learning ...|\n",
      "|https://uk.linked...|Data Engineering,...|\n",
      "|https://ca.linked...|Data Analysis, Da...|\n",
      "|https://www.linke...|Hardware Validati...|\n",
      "|https://www.linke...|Data governance, ...|\n",
      "|https://www.linke...|SQL Server, SSIS,...|\n",
      "+--------------------+--------------------+\n",
      "only showing top 20 rows\n",
      "\n"
     ]
    },
    {
     "data": {
      "text/plain": [
       "['job_link', 'job_skills']"
      ]
     },
     "execution_count": 48,
     "metadata": {},
     "output_type": "execute_result"
    }
   ],
   "source": [
    "# Visualise DataFrames df2\n",
    "df02.show()\n",
    "df02.columns"
   ]
  },
  {
   "cell_type": "code",
   "execution_count": 49,
   "id": "5c8525bb",
   "metadata": {},
   "outputs": [
    {
     "name": "stderr",
     "output_type": "stream",
     "text": [
      "\r",
      "[Stage 53:=============================>                            (1 + 1) / 2]\r",
      "\r",
      "                                                                                \r"
     ]
    },
    {
     "data": {
      "text/html": [
       "<div>\n",
       "<style scoped>\n",
       "    .dataframe tbody tr th:only-of-type {\n",
       "        vertical-align: middle;\n",
       "    }\n",
       "\n",
       "    .dataframe tbody tr th {\n",
       "        vertical-align: top;\n",
       "    }\n",
       "\n",
       "    .dataframe thead th {\n",
       "        text-align: right;\n",
       "    }\n",
       "</style>\n",
       "<table border=\"1\" class=\"dataframe\">\n",
       "  <thead>\n",
       "    <tr style=\"text-align: right;\">\n",
       "      <th></th>\n",
       "      <th>job_link</th>\n",
       "      <th>last_processed_time</th>\n",
       "      <th>last_status</th>\n",
       "      <th>got_summary</th>\n",
       "      <th>got_ner</th>\n",
       "      <th>is_being_worked</th>\n",
       "      <th>job_title</th>\n",
       "      <th>company</th>\n",
       "      <th>job_location</th>\n",
       "      <th>first_seen</th>\n",
       "      <th>search_city</th>\n",
       "      <th>search_country</th>\n",
       "      <th>search_position</th>\n",
       "      <th>job_level</th>\n",
       "      <th>job_type</th>\n",
       "    </tr>\n",
       "  </thead>\n",
       "  <tbody>\n",
       "    <tr>\n",
       "      <th>count</th>\n",
       "      <td>12218</td>\n",
       "      <td>12218</td>\n",
       "      <td>12218</td>\n",
       "      <td>12218</td>\n",
       "      <td>12218</td>\n",
       "      <td>12218</td>\n",
       "      <td>12218</td>\n",
       "      <td>12217</td>\n",
       "      <td>12216</td>\n",
       "      <td>12216</td>\n",
       "      <td>12216</td>\n",
       "      <td>12216</td>\n",
       "      <td>12216</td>\n",
       "      <td>12216</td>\n",
       "      <td>12216</td>\n",
       "    </tr>\n",
       "    <tr>\n",
       "      <th>unique</th>\n",
       "      <td>12218</td>\n",
       "      <td>5764</td>\n",
       "      <td>2</td>\n",
       "      <td>2</td>\n",
       "      <td>2</td>\n",
       "      <td>2</td>\n",
       "      <td>6485</td>\n",
       "      <td>3947</td>\n",
       "      <td>2050</td>\n",
       "      <td>6</td>\n",
       "      <td>801</td>\n",
       "      <td>4</td>\n",
       "      <td>711</td>\n",
       "      <td>2</td>\n",
       "      <td>3</td>\n",
       "    </tr>\n",
       "    <tr>\n",
       "      <th>top</th>\n",
       "      <td>https://www.linkedin.com/jobs/view/senior-mach...</td>\n",
       "      <td>2024-01-19 09:45:09.215838+00</td>\n",
       "      <td>Finished NER</td>\n",
       "      <td>t</td>\n",
       "      <td>t</td>\n",
       "      <td>f</td>\n",
       "      <td>Senior Data Engineer</td>\n",
       "      <td>Jobs for Humanity</td>\n",
       "      <td>New York, NY</td>\n",
       "      <td>2024-01-13</td>\n",
       "      <td>Greater London</td>\n",
       "      <td>United States</td>\n",
       "      <td>Data Entry Clerk</td>\n",
       "      <td>Mid senior</td>\n",
       "      <td>Onsite</td>\n",
       "    </tr>\n",
       "    <tr>\n",
       "      <th>freq</th>\n",
       "      <td>1</td>\n",
       "      <td>6455</td>\n",
       "      <td>12217</td>\n",
       "      <td>12217</td>\n",
       "      <td>12217</td>\n",
       "      <td>12217</td>\n",
       "      <td>285</td>\n",
       "      <td>732</td>\n",
       "      <td>280</td>\n",
       "      <td>4946</td>\n",
       "      <td>189</td>\n",
       "      <td>10291</td>\n",
       "      <td>1088</td>\n",
       "      <td>10918</td>\n",
       "      <td>12187</td>\n",
       "    </tr>\n",
       "  </tbody>\n",
       "</table>\n",
       "</div>"
      ],
      "text/plain": [
       "                                                 job_link  \\\n",
       "count                                               12218   \n",
       "unique                                              12218   \n",
       "top     https://www.linkedin.com/jobs/view/senior-mach...   \n",
       "freq                                                    1   \n",
       "\n",
       "                  last_processed_time   last_status got_summary got_ner  \\\n",
       "count                           12218         12218       12218   12218   \n",
       "unique                           5764             2           2       2   \n",
       "top     2024-01-19 09:45:09.215838+00  Finished NER           t       t   \n",
       "freq                             6455         12217       12217   12217   \n",
       "\n",
       "       is_being_worked             job_title            company  job_location  \\\n",
       "count            12218                 12218              12217         12216   \n",
       "unique               2                  6485               3947          2050   \n",
       "top                  f  Senior Data Engineer  Jobs for Humanity  New York, NY   \n",
       "freq             12217                   285                732           280   \n",
       "\n",
       "        first_seen     search_city search_country   search_position  \\\n",
       "count        12216           12216          12216             12216   \n",
       "unique           6             801              4               711   \n",
       "top     2024-01-13  Greater London  United States  Data Entry Clerk   \n",
       "freq          4946             189          10291              1088   \n",
       "\n",
       "         job_level job_type  \n",
       "count        12216    12216  \n",
       "unique           2        3  \n",
       "top     Mid senior   Onsite  \n",
       "freq         10918    12187  "
      ]
     },
     "metadata": {},
     "output_type": "display_data"
    },
    {
     "data": {
      "text/html": [
       "<div>\n",
       "<style scoped>\n",
       "    .dataframe tbody tr th:only-of-type {\n",
       "        vertical-align: middle;\n",
       "    }\n",
       "\n",
       "    .dataframe tbody tr th {\n",
       "        vertical-align: top;\n",
       "    }\n",
       "\n",
       "    .dataframe thead th {\n",
       "        text-align: right;\n",
       "    }\n",
       "</style>\n",
       "<table border=\"1\" class=\"dataframe\">\n",
       "  <thead>\n",
       "    <tr style=\"text-align: right;\">\n",
       "      <th></th>\n",
       "      <th>job_link</th>\n",
       "      <th>job_skills</th>\n",
       "    </tr>\n",
       "  </thead>\n",
       "  <tbody>\n",
       "    <tr>\n",
       "      <th>count</th>\n",
       "      <td>12217</td>\n",
       "      <td>12212</td>\n",
       "    </tr>\n",
       "    <tr>\n",
       "      <th>unique</th>\n",
       "      <td>12217</td>\n",
       "      <td>12204</td>\n",
       "    </tr>\n",
       "    <tr>\n",
       "      <th>top</th>\n",
       "      <td>https://www.linkedin.com/jobs/view/senior-mach...</td>\n",
       "      <td>VolunteerMatch, LinkedIn for Good</td>\n",
       "    </tr>\n",
       "    <tr>\n",
       "      <th>freq</th>\n",
       "      <td>1</td>\n",
       "      <td>3</td>\n",
       "    </tr>\n",
       "  </tbody>\n",
       "</table>\n",
       "</div>"
      ],
      "text/plain": [
       "                                                 job_link  \\\n",
       "count                                               12217   \n",
       "unique                                              12217   \n",
       "top     https://www.linkedin.com/jobs/view/senior-mach...   \n",
       "freq                                                    1   \n",
       "\n",
       "                               job_skills  \n",
       "count                               12212  \n",
       "unique                              12204  \n",
       "top     VolunteerMatch, LinkedIn for Good  \n",
       "freq                                    3  "
      ]
     },
     "metadata": {},
     "output_type": "display_data"
    }
   ],
   "source": [
    "# Convert Spark DataFrame to Pandas DataFrame\n",
    "pd_df01 = df01.toPandas()\n",
    "pd_df02 = df02.toPandas()\n",
    "# Display summary statistics using Pandas\n",
    "from IPython.display import display\n",
    "display(pd_df01.describe(include='all'))\n",
    "display(pd_df02.describe(include='all'))"
   ]
  },
  {
   "cell_type": "code",
   "execution_count": null,
   "id": "33ebf0db",
   "metadata": {},
   "outputs": [],
   "source": [
    "# For type, we can use print schema. \n",
    "df01.printSchema()\n",
    "df02.printSchema()"
   ]
  },
  {
   "cell_type": "markdown",
   "id": "30aff549",
   "metadata": {},
   "source": [
    "## Data Manipulation"
   ]
  },
  {
   "cell_type": "code",
   "execution_count": null,
   "id": "72fd94c2",
   "metadata": {},
   "outputs": [],
   "source": []
  }
 ],
 "metadata": {
  "kernelspec": {
   "display_name": "Python 3 (ipykernel)",
   "language": "python",
   "name": "python3"
  },
  "language_info": {
   "codemirror_mode": {
    "name": "ipython",
    "version": 3
   },
   "file_extension": ".py",
   "mimetype": "text/x-python",
   "name": "python",
   "nbconvert_exporter": "python",
   "pygments_lexer": "ipython3",
   "version": "3.10.12"
  }
 },
 "nbformat": 4,
 "nbformat_minor": 5
}
